{
  "nbformat": 4,
  "nbformat_minor": 0,
  "metadata": {
    "colab": {
      "name": "create_data.ipynb",
      "provenance": [],
      "authorship_tag": "ABX9TyME8ERckxK0w5/VhavMnYlt",
      "include_colab_link": true
    },
    "kernelspec": {
      "name": "python3",
      "display_name": "Python 3"
    },
    "language_info": {
      "name": "python"
    }
  },
  "cells": [
    {
      "cell_type": "markdown",
      "metadata": {
        "id": "view-in-github",
        "colab_type": "text"
      },
      "source": [
        "<a href=\"https://colab.research.google.com/github/flowonthegoliv/ENVS231/blob/main/create_data.ipynb\" target=\"_parent\"><img src=\"https://colab.research.google.com/assets/colab-badge.svg\" alt=\"Open In Colab\"/></a>"
      ]
    },
    {
      "cell_type": "code",
      "metadata": {
        "id": "26Stop2KyPKa"
      },
      "source": [
        "#Add this to the beginning of your script to create your dataset.  \n",
        "\n",
        "student_id = 201515394 #here you need to change this number for your student ID \n",
        "import requests\n",
        "r = requests.get('https://raw.githubusercontent.com/flowonthegoliv/ENVS231/main/ENVS231_data.py')\n",
        "with open('ENVS231_data.py', 'w') as f:\n",
        "    f.write(r.text)\n",
        "import ENVS231_data\n",
        "data = ENVS231_data.make_data(student_id)\n",
        "print(data)"
      ],
      "execution_count": null,
      "outputs": []
    }
  ]
}