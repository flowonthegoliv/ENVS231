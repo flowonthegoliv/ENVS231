{
  "nbformat": 4,
  "nbformat_minor": 0,
  "metadata": {
    "colab": {
      "name": "create_data.ipynb",
      "provenance": [],
      "authorship_tag": "ABX9TyNGEfhhRWjLaWlRzPAR7mnU",
      "include_colab_link": true
    },
    "kernelspec": {
      "name": "python3",
      "display_name": "Python 3"
    },
    "language_info": {
      "name": "python"
    }
  },
  "cells": [
    {
      "cell_type": "markdown",
      "metadata": {
        "id": "view-in-github",
        "colab_type": "text"
      },
      "source": [
        "<a href=\"https://colab.research.google.com/github/flowonthegoliv/ENVS231/blob/main/create_data.ipynb\" target=\"_parent\"><img src=\"https://colab.research.google.com/assets/colab-badge.svg\" alt=\"Open In Colab\"/></a>"
      ]
    },
    {
      "cell_type": "code",
      "metadata": {
        "id": "26Stop2KyPKa",
        "outputId": "eb1565c8-5986-4a4b-90a0-e6152ce3ba26",
        "colab": {
          "base_uri": "https://localhost:8080/"
        }
      },
      "source": [
        "#Add this to the beginning of your script to create your dataset.  \n",
        "student_id = 201515394 #here you need to change this number for your student ID \n",
        "import requests\n",
        "r = requests.get('https://raw.githubusercontent.com/flowonthegoliv/ENVS231/main/ENVS231_data.py')\n",
        "with open('ENVS231_data.py', 'w') as f:\n",
        "    f.write(r.text)\n",
        "import ENVS231_data\n",
        "data = ENVS231_data.make_data(student_id)\n",
        "print(data)"
      ],
      "execution_count": 16,
      "outputs": [
        {
          "output_type": "stream",
          "text": [
            "[[ 7.08022959  7.38589982  7.44544586 ...  7.80637189  7.80936884\n",
            "   7.81231276]\n",
            " [ 8.81445647  9.45201598  9.57371915 ...  9.27993308  9.49854413\n",
            "   9.38557851]\n",
            " [ 9.58566611 10.44700756 10.93858227 ... 10.74940079 11.17976165\n",
            "  10.95373028]\n",
            " ...\n",
            " [ 6.6197021   5.83546802  5.11386415 ... -1.83104738  6.84276186\n",
            "  18.61535799]\n",
            " [ 7.13529393  6.37563348  6.22961248 ... -1.46225358  7.06591043\n",
            "  18.67257793]\n",
            " [ 8.39123205  7.75339129  7.98725893 ... -1.08759937  7.31190292\n",
            "  18.72013672]]\n"
          ],
          "name": "stdout"
        }
      ]
    },
    {
      "cell_type": "code",
      "metadata": {
        "id": "ilWhp5WM9hOL"
      },
      "source": [
        "#all of the modules you will need\n",
        "import numpy as np \n",
        "import matplotlib.pyplot as plt \n",
        "from google.colab import files \n",
        "from scipy.signal import welch\n",
        "from scipy import stats"
      ],
      "execution_count": 3,
      "outputs": []
    },
    {
      "cell_type": "code",
      "metadata": {
        "id": "pky5aD5X9vti",
        "outputId": "05802968-449d-433d-e719-b0607216d15a",
        "colab": {
          "base_uri": "https://localhost:8080/"
        }
      },
      "source": [
        "#using the stats mode\n",
        "a = [1,2,3,4]\n",
        "mode = stats.mode([1,2,2,3,4])\n",
        "print(np.round(mode[0],decimals=2))"
      ],
      "execution_count": 20,
      "outputs": [
        {
          "output_type": "stream",
          "text": [
            "[2]\n"
          ],
          "name": "stdout"
        }
      ]
    },
    {
      "cell_type": "code",
      "metadata": {
        "id": "z4Tov7-S-CUJ"
      },
      "source": [
        "#using the pwelch \n",
        "datas = data[:,1]-np.mean(data)\n",
        "frequency = 1\n",
        "fx, px = welch(datas,frequency,nperseg=2000,noverlap=1000,nfft=8192)\n"
      ],
      "execution_count": 18,
      "outputs": []
    }
  ]
}