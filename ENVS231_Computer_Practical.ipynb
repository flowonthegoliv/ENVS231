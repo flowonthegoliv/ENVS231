{
  "nbformat": 4,
  "nbformat_minor": 0,
  "metadata": {
    "colab": {
      "name": "ENVS231_Computer_Practical.ipynb",
      "provenance": [],
      "collapsed_sections": [],
      "toc_visible": true,
      "authorship_tag": "ABX9TyPULjUanDY1CbQC7VcOzPsn",
      "include_colab_link": true
    },
    "kernelspec": {
      "name": "python3",
      "display_name": "Python 3"
    },
    "language_info": {
      "name": "python"
    }
  },
  "cells": [
    {
      "cell_type": "markdown",
      "metadata": {
        "id": "view-in-github",
        "colab_type": "text"
      },
      "source": [
        "<a href=\"https://colab.research.google.com/github/flowonthegoliv/ENVS231/blob/main/ENVS231_Computer_Practical.ipynb\" target=\"_parent\"><img src=\"https://colab.research.google.com/assets/colab-badge.svg\" alt=\"Open In Colab\"/></a>"
      ]
    },
    {
      "cell_type": "markdown",
      "metadata": {
        "id": "oh7fAYP2mRDD"
      },
      "source": [
        "#ENVS231 Computer Practical \n",
        "\n",
        "Aim of the practical session:\n",
        "\n",
        "1. To learn the basics of Python\n",
        "2. To understand logic operations\n",
        "3. To create some simple plots\n",
        "\n",
        "Welcome to your first course in Python. In this course we are going to learn the very basics of Python programming and then begin to apply these techniques to the data of wind profiles. \n",
        "\n",
        "Python is a language which is multiplatform and does not require to be compiled. Compiling means that sometimes get the computer to translate the programming language in a certain machine lexicon for the computer to understand. Thankfully we do not need to do this for Python, this is the one of its major advantages.\n",
        "\n",
        "In this module we will be using Google Collabs; this is a brilliant tool as it means that all computations are not done on your local computer, but they are done online on Google's servers. However, if you do want to instal Python locally on your computer this is possible, in most cases it will actually already be installed as many background programmes use Python in their day to day operations on computers. If you have any questions about installing this please ask and I can guide you through the route to do this. Okay so we are now programming in something called a notebook inside of the notebook we have a play sign which when clicked will send the operation to be computed. in the example below we allocate a letter to a number this means that that we can undertake simple operations based on numbers. This is similar to something you might see in Excel however opposed to using cell numbers we are now allocating letters for each number. On a side note you will also see the pound sign or hashtag sign (#) used before some text. This allows us to write or comment in a programme and the computer will completely ignore it. Here we use the letters a, b and c...you can use anyting you would like. In this tutorial I will be writing over these values in the different cells; if you do not write over them the computer will remember...\n"
      ]
    },
    {
      "cell_type": "markdown",
      "metadata": {
        "id": "De2Wenwonngm"
      },
      "source": [
        "# Basic Operations"
      ]
    },
    {
      "cell_type": "code",
      "metadata": {
        "colab": {
          "base_uri": "https://localhost:8080/"
        },
        "id": "YyQVXe0WUOEU",
        "outputId": "909b3776-9ea3-4aed-9770-ff4086f696ba"
      },
      "source": [
        "#first example (addition & subtraction):\n",
        "a = 2\n",
        "b = 3\n",
        "c = a + b - a\n",
        "#to see the answer we need to tell the computer to print it on screen:\n",
        "print(c)"
      ],
      "execution_count": 3,
      "outputs": [
        {
          "output_type": "stream",
          "text": [
            "3\n"
          ],
          "name": "stdout"
        }
      ]
    },
    {
      "cell_type": "code",
      "metadata": {
        "colab": {
          "base_uri": "https://localhost:8080/"
        },
        "id": "OYCN7UXWjit2",
        "outputId": "941141e3-a1ab-4cc8-8fa4-58ca775338a0"
      },
      "source": [
        "#second example (multiplication and division):\n",
        "a = 2\n",
        "b = 3\n",
        "c = (b*a)/a - a + b - a * 2*b\n",
        "print(c)"
      ],
      "execution_count": 6,
      "outputs": [
        {
          "output_type": "stream",
          "text": [
            "-8.0\n"
          ],
          "name": "stdout"
        }
      ]
    },
    {
      "cell_type": "markdown",
      "metadata": {
        "id": "qwCjkM81nzWd"
      },
      "source": [
        "# Libraries \n",
        "\n",
        "So actually, the language Python alone is rather stupid, alone it only has very simple operations such as adding, dividing and multiplying. To increase the flexibility of the language we need to introduce libraries. So, what do I mean by a library? A library is a set of pre-programmed routines which have been programmed already for you for example if we were to calculate the mean of a number we could do this quite easily by using some of Python is built in routines of addition and division. However, this only works if we have a small set of numbers:"
      ]
    },
    {
      "cell_type": "code",
      "metadata": {
        "colab": {
          "base_uri": "https://localhost:8080/"
        },
        "id": "26oO9BdYUL2u",
        "outputId": "c84388da-090f-4968-9191-30a451298677"
      },
      "source": [
        "#calculating the mean average\n",
        "a = (1 + 2 + 3 + 4 + 9)/5\n",
        "print(a)"
      ],
      "execution_count": 7,
      "outputs": [
        {
          "output_type": "stream",
          "text": [
            "3.8\n"
          ],
          "name": "stdout"
        }
      ]
    },
    {
      "cell_type": "markdown",
      "metadata": {
        "id": "ZdAO7q8Tl-YC"
      },
      "source": [
        "Instead, now if we used one of the most commonly used libraries (numpy) we can perform all sorts of mathematical operations. These range from simple tasks from means an average is all the way open to extremely complex linear algebra functions. We can import the library as shown below. Here we import the library with the name (np) and we can call that function whenever we like. \n",
        "\n"
      ]
    },
    {
      "cell_type": "code",
      "metadata": {
        "colab": {
          "base_uri": "https://localhost:8080/"
        },
        "id": "j1r8B5ZtmYhL",
        "outputId": "fb25755c-3b94-412b-d095-0b2f0754a097"
      },
      "source": [
        "import numpy as np\n",
        "#calculating the mean\n",
        "a = np.mean([1,2,3,4,9])\n",
        "print(a)\n",
        "#calculating the median \n",
        "a = np.median([1,2,3,4,9])\n",
        "print(a)\n",
        "#calculating the standard deviation \n",
        "a = np.std([1,2,3,4,9])\n",
        "print(a)"
      ],
      "execution_count": 11,
      "outputs": [
        {
          "output_type": "stream",
          "text": [
            "3.8\n",
            "3.0\n",
            "2.785677655436824\n"
          ],
          "name": "stdout"
        }
      ]
    },
    {
      "cell_type": "markdown",
      "metadata": {
        "id": "k0bW-4-jnDYY"
      },
      "source": [
        "These are just a select few of some of the functions which can be called. there are millions of different functions inside of numpy the best way to find these is by looking into the documentation which can be found at this link: \n",
        "\n",
        "https://numpy.org/doc/stable/user/absolute_beginners.html\n",
        "\n",
        "There are many different libraries which have very similar or the same tools and the best way to find a tool for which you want to apply to your data is simply by using Google. Of course you can always ask myself or one of the facilitators however we might give different answers based on our background of use of different libraries (Quite likely we will probably Google the library first too!).\n",
        "\n"
      ]
    },
    {
      "cell_type": "markdown",
      "metadata": {
        "id": "eKSifAw04QHT"
      },
      "source": [
        "# Arrays\n",
        "The next thing we're going to work on is how we can store multiple numbers in a single array. An array mathematically represents something called a vector, in Python we do this using the square brackets.  \n",
        "\n"
      ]
    },
    {
      "cell_type": "code",
      "metadata": {
        "colab": {
          "base_uri": "https://localhost:8080/"
        },
        "id": "i9iM0RI7uc8i",
        "outputId": "cd90b5ac-3b4b-4202-c269-784e129dc27c"
      },
      "source": [
        "# creating an array \n",
        "a = [1,2,5,3,8]\n",
        "print(a)"
      ],
      "execution_count": 12,
      "outputs": [
        {
          "output_type": "stream",
          "text": [
            "[1, 2, 5, 3, 8]\n"
          ],
          "name": "stdout"
        }
      ]
    },
    {
      "cell_type": "code",
      "metadata": {
        "colab": {
          "base_uri": "https://localhost:8080/"
        },
        "id": "Kn7A2L5Mut4M",
        "outputId": "6acc6a82-a3fa-43ca-8521-3ea9d11f3562"
      },
      "source": [
        "import numpy as np\n",
        "#using the array\n",
        "b = np.mean(a);\n",
        "print(b)"
      ],
      "execution_count": 13,
      "outputs": [
        {
          "output_type": "stream",
          "text": [
            "3.8\n"
          ],
          "name": "stdout"
        }
      ]
    },
    {
      "cell_type": "markdown",
      "metadata": {
        "id": "q9gSZO1dxh9g"
      },
      "source": [
        "If we want to access any of the numbers in the array, we can do this by using their index...annoyingly computers start couting from 0 so to retreive the first value in the array we would say:"
      ]
    },
    {
      "cell_type": "code",
      "metadata": {
        "colab": {
          "base_uri": "https://localhost:8080/"
        },
        "id": "K0MRPOAbxuSP",
        "outputId": "461ec1dd-53fd-41f5-d5aa-f4a7293a6ad4"
      },
      "source": [
        "a = [1,2,5,3,8]\n",
        "#this will retrieve the first value in the array\n",
        "print(a[3])\n",
        "#you can change this number to retrieve any number. "
      ],
      "execution_count": 22,
      "outputs": [
        {
          "output_type": "stream",
          "text": [
            "3\n"
          ],
          "name": "stdout"
        }
      ]
    },
    {
      "cell_type": "markdown",
      "metadata": {
        "id": "Iq-CkWYFvaEp"
      },
      "source": [
        "As of present this array just has one dimension. However, sometimes we might want the array to a second dimension. This is what we could call a matrix:"
      ]
    },
    {
      "cell_type": "code",
      "metadata": {
        "colab": {
          "base_uri": "https://localhost:8080/"
        },
        "id": "O2muWJ5gvknj",
        "outputId": "78359969-6199-4928-af36-f15a1de417ae"
      },
      "source": [
        "#here we now have a two dimensional array of size 3 x 4\n",
        "a = [[1,2,3,4], [2,3,4,5], [3,2,3,4]]\n",
        "print(a)"
      ],
      "execution_count": 23,
      "outputs": [
        {
          "output_type": "stream",
          "text": [
            "[[1, 2, 3, 4], [2, 3, 4, 5], [3, 2, 3, 4]]\n"
          ],
          "name": "stdout"
        }
      ]
    },
    {
      "cell_type": "code",
      "metadata": {
        "colab": {
          "base_uri": "https://localhost:8080/"
        },
        "id": "UbwKv77dyFd7",
        "outputId": "44d54657-e8cb-4b23-ce07-b3ef45d82a4a"
      },
      "source": [
        "import numpy as np\n",
        "#you can check the size of the matrix by using:\n",
        "c = np.shape(a)\n",
        "print(c)"
      ],
      "execution_count": 25,
      "outputs": [
        {
          "output_type": "stream",
          "text": [
            "(3, 4)\n"
          ],
          "name": "stdout"
        }
      ]
    },
    {
      "cell_type": "markdown",
      "metadata": {
        "id": "dP8qW_b6xKPU"
      },
      "source": [
        "We can think of this perhaps as a table; here the table has three rows and four columns. Annoyingly in computing we always define the size of matrix the opposite way that you are used to. Remember reinforced concrete (RC)...if you forget! Now we have a table it means we can take the mean in two directions:"
      ]
    },
    {
      "cell_type": "code",
      "metadata": {
        "colab": {
          "base_uri": "https://localhost:8080/"
        },
        "id": "-ZwzLuNPyMsd",
        "outputId": "08700cb8-1deb-4dac-e41e-a42bfe0210af"
      },
      "source": [
        "import numpy as np\n",
        "#this takes the mean across the rows (note we use 0 to denote the first dimension)\n",
        "a = [[1,2,3,4], [2,3,4,5], [3,2,3,4]]\n",
        "c_1 = np.mean(a,0)\n",
        "print(c_1)"
      ],
      "execution_count": 30,
      "outputs": [
        {
          "output_type": "stream",
          "text": [
            "[2.5 3.5 3. ]\n"
          ],
          "name": "stdout"
        }
      ]
    },
    {
      "cell_type": "code",
      "metadata": {
        "colab": {
          "base_uri": "https://localhost:8080/"
        },
        "id": "aeog6TpryY7P",
        "outputId": "d97a118d-112c-4565-eb73-fee0b1ea5ce3"
      },
      "source": [
        "import numpy as np\n",
        "a = [[1,2,3,4], [2,3,4,5], [3,2,3,4]]\n",
        "c_2 = np.mean(a,1)\n",
        "print(c_2)"
      ],
      "execution_count": 31,
      "outputs": [
        {
          "output_type": "stream",
          "text": [
            "[2.5 3.5 3. ]\n"
          ],
          "name": "stdout"
        }
      ]
    },
    {
      "cell_type": "markdown",
      "metadata": {
        "id": "lG_GcFl0yhkZ"
      },
      "source": [
        "These are both really handy operations for quickly looking at statistics of the the data we have, for example in the pollution data we might have time store in the rows data and days stored in the rows. This would quickly allow us to access these statistics. If we wanted to find the mean of the whole matrix, we could do this in one of two ways nesting the functions inside one another:"
      ]
    },
    {
      "cell_type": "code",
      "metadata": {
        "colab": {
          "base_uri": "https://localhost:8080/"
        },
        "id": "BgXDw3JL1Wz2",
        "outputId": "bfe2082e-c8ee-4ed4-a2a2-dea86d54e6a2"
      },
      "source": [
        "import numpy as np\n",
        "#we could do this by taking the mean in both direction\n",
        "a = [[1,2,3,4], [2,3,4,5], [3,2,3,4]]\n",
        "c = np.mean(np.mean(a,1),0)\n",
        "print(c)"
      ],
      "execution_count": 32,
      "outputs": [
        {
          "output_type": "stream",
          "text": [
            "3.0\n"
          ],
          "name": "stdout"
        }
      ]
    },
    {
      "cell_type": "code",
      "metadata": {
        "colab": {
          "base_uri": "https://localhost:8080/"
        },
        "id": "_BhPjxTN25Rb",
        "outputId": "7570d608-7caa-417d-e383-051ac17fa48d"
      },
      "source": [
        "import numpy as np\n",
        "#or we can do it by converting (unravelling) the matrix:\n",
        "a = [[1,2,3,4], [2,3,4,5], [3,2,3,4]]\n",
        "# c_0 = np.ravel(a)\n",
        "# c = np.mean(c_0)\n",
        "c = np.mean(np.ravel(a),0)\n",
        "print(c)"
      ],
      "execution_count": 36,
      "outputs": [
        {
          "output_type": "stream",
          "text": [
            "3.0\n"
          ],
          "name": "stdout"
        }
      ]
    },
    {
      "cell_type": "markdown",
      "metadata": {
        "id": "iHSB5jRF3Jt0"
      },
      "source": [
        "# Loops\n",
        "\n",
        "One of the quirks of Python means that we have to be very careful with indentations. When creating a loop everything inside of the loop must be indented. Once we have finished the loop we stop this indentation . This must be done with the tab key and not with the space bar. Python will not run a programme inside of a loop if the indentation is not correct. This is implemented in Python to ensure that when people code they code in a neat fashion. In languages such as C and matlab there is no requirement for indentations, this often means open brackets especially in my case closed brackets the codes which can be used are often very messy\n",
        "One of the next things we will introduce is the use of loops. A loop is really useful and is common in every computing language. What a loop allows us to do is to repeat the same operation a number of times. This is done either with a for loop where we set the maximum number of iterations or it is done using a while loop. A while loop is based on logic. \n",
        "\n"
      ]
    },
    {
      "cell_type": "code",
      "metadata": {
        "id": "xLUwhKsfik99",
        "outputId": "e8c2267b-5882-414d-d875-b050800bdfcb",
        "colab": {
          "base_uri": "https://localhost:8080/"
        }
      },
      "source": [
        "a = range(0,10,2)\n",
        "print(a)"
      ],
      "execution_count": 40,
      "outputs": [
        {
          "output_type": "stream",
          "text": [
            "range(0, 10, 2)\n"
          ],
          "name": "stdout"
        }
      ]
    },
    {
      "cell_type": "code",
      "metadata": {
        "colab": {
          "base_uri": "https://localhost:8080/"
        },
        "id": "qo0eJkfR3clf",
        "outputId": "f7b9c63f-63da-4807-9bc1-4559c0530f79"
      },
      "source": [
        "# note we use in range here to denote the start and end number\n",
        "for i in range(0,15):\n",
        "  print(i)"
      ],
      "execution_count": 42,
      "outputs": [
        {
          "output_type": "stream",
          "text": [
            "0\n",
            "1\n",
            "2\n",
            "3\n",
            "4\n",
            "5\n",
            "6\n",
            "7\n",
            "8\n",
            "9\n",
            "10\n",
            "11\n",
            "12\n",
            "13\n",
            "14\n"
          ],
          "name": "stdout"
        }
      ]
    },
    {
      "cell_type": "markdown",
      "metadata": {
        "id": "U7aXM9Jv4hwH"
      },
      "source": [
        "As we can see what the loop has allowed us to do here is to repeat the same operation whilst increasing 'i' which is our number from which we are iterating. This means we would be able to perform the operation 10 times perhaps even changing an input parameter. This letter can be any letter, again i is just commonly used in computing. "
      ]
    },
    {
      "cell_type": "code",
      "metadata": {
        "colab": {
          "base_uri": "https://localhost:8080/"
        },
        "id": "zFjmMPkF4Ldq",
        "outputId": "492e7414-eb21-4a08-8c79-e2e6ed900611"
      },
      "source": [
        "#here we can change the start and end number of i and even change the size of the steps it uses. \n",
        "for i in range(2,20,2):\n",
        "  print(i)"
      ],
      "execution_count": 44,
      "outputs": [
        {
          "output_type": "stream",
          "text": [
            "2\n",
            "4\n",
            "6\n",
            "8\n",
            "10\n",
            "12\n",
            "14\n",
            "16\n",
            "18\n"
          ],
          "name": "stdout"
        }
      ]
    },
    {
      "cell_type": "markdown",
      "metadata": {
        "id": "O7VKMmx95gM1"
      },
      "source": [
        "# Logic\n",
        "\n",
        "The next very common thing used in computing is logic. Logic can be thought of as questions one might ask themselves when playing a computer game. These can be questions such as if one was to do this to a certain operation however if one was to do something else then do a second operation. being logical in the computer code allows us to make decisions based on parameters for example if we were to find our average value was greater than a certain value we could have an operation to one function however if we were to find that the value was less than a certain prescribed value then we could have it do alternative operation.  For example"
      ]
    },
    {
      "cell_type": "code",
      "metadata": {
        "id": "vayZNX665iXU"
      },
      "source": [
        "a = 5 #change the input value\n",
        "if a > 5: # here we are asking if a is greater than 5\n",
        "  print('Hello') # here note for printing words I use '', this tells the computer these are words not numbers!\n",
        "if a < 5: # here we are asdking if a is less than 5\n",
        "  print('Goodbye')"
      ],
      "execution_count": 47,
      "outputs": []
    },
    {
      "cell_type": "markdown",
      "metadata": {
        "id": "y6YDJFEP6A-u"
      },
      "source": [
        "We can further extend this functionality by introducing else statements. This means if we ask the computer a question and if does not meet the if criteria we can get the computer to do another operation, for example:"
      ]
    },
    {
      "cell_type": "code",
      "metadata": {
        "colab": {
          "base_uri": "https://localhost:8080/"
        },
        "id": "S3L9vMdx6TwI",
        "outputId": "a0eae9c0-6b0d-4077-e9e0-f26f92311171"
      },
      "source": [
        "a = 5 #change the input value\n",
        "if a >= 5: #if a is greater than or equal 5\n",
        "  print('Hello')\n",
        "else:\n",
        "  print('Goodbye')"
      ],
      "execution_count": 51,
      "outputs": [
        {
          "output_type": "stream",
          "text": [
            "Hello\n"
          ],
          "name": "stdout"
        }
      ]
    },
    {
      "cell_type": "markdown",
      "metadata": {
        "id": "PA_0zoSd6u5g"
      },
      "source": [
        "We can even further extend this by asking an additional questions by nesting if statements:"
      ]
    },
    {
      "cell_type": "code",
      "metadata": {
        "colab": {
          "base_uri": "https://localhost:8080/"
        },
        "id": "_7Y2IobJ62Bd",
        "outputId": "b9c65ae8-c7cf-4ced-894e-97434cb23ec5"
      },
      "source": [
        "a = 3 #change the input value\n",
        "if a == 1: #if a is equal to 1 \n",
        "  print('Hola')\n",
        "if a == 2: #if a is equal to 1 \n",
        "  print('Adiós')\n",
        "if a > 2: #if a is greater than 2 \n",
        "  print('Jorge')"
      ],
      "execution_count": 54,
      "outputs": [
        {
          "output_type": "stream",
          "text": [
            "Jorge\n"
          ],
          "name": "stdout"
        }
      ]
    },
    {
      "cell_type": "markdown",
      "metadata": {
        "id": "VIzoSTHE8Vo2"
      },
      "source": [
        "There are a range of different operators we can use in this logics:\n",
        "* '==' equal to\n",
        "* '>' greater than\n",
        "* '<' less than\n",
        "* '>=' greater or equal to \n",
        "* '<=' less than or equal to\n",
        "* '!=' not equal too\n",
        "\n",
        "We can even combine these operators to ask multiple questions using and or or, for example:\n"
      ]
    },
    {
      "cell_type": "code",
      "metadata": {
        "colab": {
          "base_uri": "https://localhost:8080/"
        },
        "id": "qFTvo5MP84nZ",
        "outputId": "5009e04c-97c0-485d-d095-feeb2036d0ab"
      },
      "source": [
        "a = 2 #change the input value\n",
        "b = 3 #change the input value\n",
        "#using an & operator \n",
        "if a == 2 and b > 2: # here we are asking, if a is equal to 2 and b is greater than 2\n",
        "  print('Hello')\n",
        "else: \n",
        "  print('Goodbye')"
      ],
      "execution_count": 57,
      "outputs": [
        {
          "output_type": "stream",
          "text": [
            "Hello\n"
          ],
          "name": "stdout"
        }
      ]
    },
    {
      "cell_type": "code",
      "metadata": {
        "colab": {
          "base_uri": "https://localhost:8080/"
        },
        "id": "UmnXX8by-SW9",
        "outputId": "e1183b43-e85d-49f7-8134-5288b015ac45"
      },
      "source": [
        "a = 1 #change the input value\n",
        "b = 4 #change the input value\n",
        "#using an or operator \n",
        "if a == 2 or b > 2: # here we are asking, if a is equal to 2 and b is greater than 2\n",
        "  print('Hello')\n",
        "else: \n",
        "  print('Goodbye')"
      ],
      "execution_count": 60,
      "outputs": [
        {
          "output_type": "stream",
          "text": [
            "Hello\n"
          ],
          "name": "stdout"
        }
      ]
    },
    {
      "cell_type": "markdown",
      "metadata": {
        "id": "zTBqlfKI-hiz"
      },
      "source": [
        "We can not combine the logic statements and the for loops into something called a while loop. As suggested by the name, the loop will continue running until a condition is met, this condition can be provided before the loop or it could be created within the loop:"
      ]
    },
    {
      "cell_type": "code",
      "metadata": {
        "id": "EPgk3b3K_nTP"
      },
      "source": [
        "a = 10 #setting an initial condition\n",
        "while a < 10:\n",
        "  print('Hello')"
      ],
      "execution_count": 61,
      "outputs": []
    },
    {
      "cell_type": "code",
      "metadata": {
        "colab": {
          "base_uri": "https://localhost:8080/"
        },
        "id": "n0qMqhIl_07r",
        "outputId": "ef98158c-4764-4afc-8a6d-dc49329d23cb"
      },
      "source": [
        "c = 0; #sometimes we might even want the loop to count. We can do this by adding a number to c at each itteration. \n",
        "while c < 10:\n",
        "  c = c + 2\n",
        "  print(c)"
      ],
      "execution_count": 65,
      "outputs": [
        {
          "output_type": "stream",
          "text": [
            "2\n",
            "4\n",
            "6\n",
            "8\n",
            "10\n"
          ],
          "name": "stdout"
        }
      ]
    },
    {
      "cell_type": "markdown",
      "metadata": {
        "id": "vXcW5kmHAIzQ"
      },
      "source": [
        "You do need to be very carefull when using while loops that there is a criteria for the loop to end; if not the loop could keep running to infinity! 🙈"
      ]
    },
    {
      "cell_type": "markdown",
      "metadata": {
        "id": "MXqcRAkSBMyL"
      },
      "source": [
        "# Plotting \n",
        "\n",
        "So to be able to plot, we need to use an additional library. The one I prefer to use is called matplotlib (this is how you create all of the fancy plots you see in theh journal papers). "
      ]
    },
    {
      "cell_type": "code",
      "metadata": {
        "colab": {
          "base_uri": "https://localhost:8080/",
          "height": 312
        },
        "id": "UjWYP2_3B14H",
        "outputId": "c6439c8e-08fe-4154-db5a-0e5982f2b49b"
      },
      "source": [
        "import matplotlib.pyplot as plt #again we simplify the name to plt, but realistically this could be what you want! \n",
        "a = [1,2,3,4,5,6] # again we define some values \n",
        "b = [6,5,4,3,2,1] # again we define some values \n",
        "plt.plot(a,b,'g') #and it really is as simple as this to crearte a plot! \n",
        "plt.ylabel('Hola') # add some lables\n",
        "plt.xlabel('Hello') # add some lables\n",
        "plt.title('Hola vs Hello') # add a title"
      ],
      "execution_count": 71,
      "outputs": [
        {
          "output_type": "execute_result",
          "data": {
            "text/plain": [
              "Text(0.5, 1.0, 'Hola vs Hello')"
            ]
          },
          "metadata": {
            "tags": []
          },
          "execution_count": 71
        },
        {
          "output_type": "display_data",
          "data": {
            "image/png": "[encoded data removed]",
            "text/plain": [
              "<Figure size 432x288 with 1 Axes>"
            ]
          },
          "metadata": {
            "tags": [],
            "needs_background": "light"
          }
        }
      ]
    },
    {
      "cell_type": "markdown",
      "metadata": {
        "id": "gmpfR1kGDAQD"
      },
      "source": [
        "We can tweak any paramter of the plots in the following way, these possibilities are endless; check out the documentation for different ideas:\n",
        "\n",
        "https://matplotlib.org/stable/gallery/index.html\n"
      ]
    },
    {
      "cell_type": "code",
      "metadata": {
        "colab": {
          "base_uri": "https://localhost:8080/",
          "height": 367
        },
        "id": "zIJUEmpeDF_R",
        "outputId": "0e13a82e-55aa-42a3-d429-8ab8fc999795"
      },
      "source": [
        "import matplotlib.pyplot as plt #again we simplify the name to plt, but realistically this could be what you want! \n",
        "\n",
        "plt.figure(figsize=(10,5)) # here we can change the size of the figure \n",
        "\n",
        "a1 = [1,2,3,4,5,6] # again we define some values \n",
        "b1 = [6,5,4,3,2,1] # again we define some values \n",
        "a2 = [2,3,4,5,6,7] # again we define some values \n",
        "b2 = [12,11,10,9,8,7] # again we define some values \n",
        "\n",
        "plt.plot(a1,b1,'g--',label='sample1') # this changes the lines to being red and dashed. \n",
        "plt.plot(a2,b2,'b-*',label='sample2') # this changes the lines to being blue and with stars. \n",
        "plt.plot(a1,b2,'r-o',label='sample2') # this changes the lines to being blue and with stars. \n",
        "\n",
        "plt.ylabel('Adios') # add some lables\n",
        "plt.xlabel('Hello') # add some lables\n",
        "plt.title('Hola vs Hello') # add a title\n",
        "plt.rc('xtick', labelsize=10) #chnage the fontsize  \n",
        "plt.rc('ytick', labelsize=10) #chnage the fontsize  \n",
        "plt.legend() #this adds a legend\n"
      ],
      "execution_count": 79,
      "outputs": [
        {
          "output_type": "execute_result",
          "data": {
            "text/plain": [
              "<matplotlib.legend.Legend at 0x7f74c6fc88d0>"
            ]
          },
          "metadata": {
            "tags": []
          },
          "execution_count": 79
        },
        {
          "output_type": "display_data",
          "data": {
            "image/png": "[encoded data removed]",
            "text/plain": [
              "<Figure size 720x360 with 1 Axes>"
            ]
          },
          "metadata": {
            "tags": [],
            "needs_background": "light"
          }
        }
      ]
    },
    {
      "cell_type": "markdown",
      "metadata": {
        "id": "gHq7oIdhFd_t"
      },
      "source": [
        "So I think this really shows how easy it is to create simple plots using Python. It is also possible to put these plots into a loop which can automate multiple operations (example coming soon). We also have different types of plots; a really usefull plot for our work is a histogram, this will help identify different modes within a dataset:\n",
        "\n",
        "https://matplotlib.org/stable/api/_as_gen/matplotlib.pyplot.hist.html\n"
      ]
    },
    {
      "cell_type": "code",
      "metadata": {
        "colab": {
          "base_uri": "https://localhost:8080/",
          "height": 312
        },
        "id": "f2qH9YJaF4Ye",
        "outputId": "e38dc376-fa32-42f5-90b1-968a6e1452a0"
      },
      "source": [
        "import matplotlib.pyplot as plt \n",
        "import numpy as np\n",
        "a = np.random.normal(0,0.1,1000) # just created some random numbers (normal distribution)\n",
        "# now we can plot the histogram \n",
        "counts, bins, bars = plt.hist(a,bins=100,range=[-0.5,0.5]) #here we can set the number of bins and the ranges \n",
        "plt.ylabel('frequency')\n",
        "plt.xlabel('range')\n",
        "plt.title('freq vs. range')"
      ],
      "execution_count": 83,
      "outputs": [
        {
          "output_type": "execute_result",
          "data": {
            "text/plain": [
              "Text(0.5, 1.0, 'freq vs. range')"
            ]
          },
          "metadata": {
            "tags": []
          },
          "execution_count": 83
        },
        {
          "output_type": "display_data",
          "data": {
            "image/png": "[encoded data removed]",
            "text/plain": [
              "<Figure size 432x288 with 1 Axes>"
            ]
          },
          "metadata": {
            "tags": [],
            "needs_background": "light"
          }
        }
      ]
    },
    {
      "cell_type": "markdown",
      "metadata": {
        "id": "5W3svk21J69t"
      },
      "source": [
        "Here we can now combine the loops and the plots to create subplots:\n",
        "\n",
        "https://matplotlib.org/stable/gallery/subplots_axes_and_figures/subplots_demo.html\n"
      ]
    },
    {
      "cell_type": "code",
      "metadata": {
        "colab": {
          "base_uri": "https://localhost:8080/",
          "height": 387
        },
        "id": "SzBaJ4yUJ_lX",
        "outputId": "9236a132-a5bf-4f09-fd8d-41da263b58f2"
      },
      "source": [
        "import matplotlib.pyplot as plt \n",
        "\n",
        "fig, (ax1, ax2, ax3) = plt.subplots(1, 3, figsize=(15, 5)) # here we define we can have a 2 colums and 1 rows plots\n",
        "\n",
        "a1 = [1,2,3,4,5,6] # again we define some values \n",
        "b1 = [6,5,4,3,2,1] # again we define some values \n",
        "a2 = [2,3,4,5,6,7] # again we define some values \n",
        "b2 = [12,11,10,9,8,7] # again we define some values \n",
        "\n",
        "fig.suptitle('Horizontally stacked subplots')\n",
        "ax1.plot(a1, b1)\n",
        "ax2.plot(a2, b2)\n",
        "ax3.plot(a1, b2)\n",
        "\n",
        "\n",
        "ax1.set(xlabel='x-label', ylabel='y-label')\n",
        "ax2.set(xlabel='x-label', ylabel='y-label')\n",
        "ax3.set(xlabel='x-label', ylabel='y-label')"
      ],
      "execution_count": 87,
      "outputs": [
        {
          "output_type": "execute_result",
          "data": {
            "text/plain": [
              "[Text(0, 0.5, 'y-label'), Text(0.5, 0, 'x-label')]"
            ]
          },
          "metadata": {
            "tags": []
          },
          "execution_count": 87
        },
        {
          "output_type": "display_data",
          "data": {
            "image/png": "[encoded data removed]",
            "text/plain": [
              "<Figure size 1080x360 with 3 Axes>"
            ]
          },
          "metadata": {
            "tags": [],
            "needs_background": "light"
          }
        }
      ]
    },
    {
      "cell_type": "markdown",
      "metadata": {
        "id": "KLFxA3bvozcL"
      },
      "source": [
        "So what happens if we want to download out pic..."
      ]
    },
    {
      "cell_type": "code",
      "metadata": {
        "id": "7BRJggbGUW0n",
        "colab": {
          "base_uri": "https://localhost:8080/",
          "height": 370
        },
        "outputId": "d8776548-d1bc-46f1-e397-12fa87a63880"
      },
      "source": [
        "from google.colab import files\n",
        "import matplotlib.pyplot as plt \n",
        "\n",
        "fig, (ax1, ax2, ax3) = plt.subplots(1, 3, figsize=(15, 5)) # here we define we can have a 2 colums and 1 rows plots\n",
        "\n",
        "a1 = [1,2,3,4,5,6] # again we define some values \n",
        "b1 = [6,5,4,3,2,1] # again we define some values \n",
        "a2 = [2,3,4,5,6,7] # again we define some values \n",
        "b2 = [12,11,10,9,8,7] # again we define some values \n",
        "\n",
        "fig.suptitle('Horizontally stacked subplots')\n",
        "ax1.plot(a1, b1)\n",
        "ax2.plot(a2, b2)\n",
        "ax3.plot(a1, b2)\n",
        "\n",
        "\n",
        "ax1.set(xlabel='x-label', ylabel='y-label')\n",
        "ax2.set(xlabel='x-label', ylabel='y-label')\n",
        "ax3.set(xlabel='x-label', ylabel='y-label')\n",
        "\n",
        "\n",
        "plt.savefig(\"cde.png\")\n",
        "files.download(\"cde.png\") \n",
        "\n",
        "plt.savefig(\"abc.svg\")\n",
        "files.download(\"abc.svg\") \n"
      ],
      "execution_count": 91,
      "outputs": [
        {
          "output_type": "display_data",
          "data": {
            "application/javascript": [
              "\n",
              "    async function download(id, filename, size) {\n",
              "      if (!google.colab.kernel.accessAllowed) {\n",
              "        return;\n",
              "      }\n",
              "      const div = document.createElement('div');\n",
              "      const label = document.createElement('label');\n",
              "      label.textContent = `Downloading \"${filename}\": `;\n",
              "      div.appendChild(label);\n",
              "      const progress = document.createElement('progress');\n",
              "      progress.max = size;\n",
              "      div.appendChild(progress);\n",
              "      document.body.appendChild(div);\n",
              "\n",
              "      const buffers = [];\n",
              "      let downloaded = 0;\n",
              "\n",
              "      const channel = await google.colab.kernel.comms.open(id);\n",
              "      // Send a message to notify the kernel that we're ready.\n",
              "      channel.send({})\n",
              "\n",
              "      for await (const message of channel.messages) {\n",
              "        // Send a message to notify the kernel that we're ready.\n",
              "        channel.send({})\n",
              "        if (message.buffers) {\n",
              "          for (const buffer of message.buffers) {\n",
              "            buffers.push(buffer);\n",
              "            downloaded += buffer.byteLength;\n",
              "            progress.value = downloaded;\n",
              "          }\n",
              "        }\n",
              "      }\n",
              "      const blob = new Blob(buffers, {type: 'application/binary'});\n",
              "      const a = document.createElement('a');\n",
              "      a.href = window.URL.createObjectURL(blob);\n",
              "      a.download = filename;\n",
              "      div.appendChild(a);\n",
              "      a.click();\n",
              "      div.remove();\n",
              "    }\n",
              "  "
            ],
            "text/plain": [
              "<IPython.core.display.Javascript object>"
            ]
          },
          "metadata": {
            "tags": []
          }
        },
        {
          "output_type": "display_data",
          "data": {
            "application/javascript": [
              "download(\"download_3f2c9f20-a82a-457e-805f-47edb944f6de\", \"cde.png\", 26683)"
            ],
            "text/plain": [
              "<IPython.core.display.Javascript object>"
            ]
          },
          "metadata": {
            "tags": []
          }
        },
        {
          "output_type": "display_data",
          "data": {
            "application/javascript": [
              "\n",
              "    async function download(id, filename, size) {\n",
              "      if (!google.colab.kernel.accessAllowed) {\n",
              "        return;\n",
              "      }\n",
              "      const div = document.createElement('div');\n",
              "      const label = document.createElement('label');\n",
              "      label.textContent = `Downloading \"${filename}\": `;\n",
              "      div.appendChild(label);\n",
              "      const progress = document.createElement('progress');\n",
              "      progress.max = size;\n",
              "      div.appendChild(progress);\n",
              "      document.body.appendChild(div);\n",
              "\n",
              "      const buffers = [];\n",
              "      let downloaded = 0;\n",
              "\n",
              "      const channel = await google.colab.kernel.comms.open(id);\n",
              "      // Send a message to notify the kernel that we're ready.\n",
              "      channel.send({})\n",
              "\n",
              "      for await (const message of channel.messages) {\n",
              "        // Send a message to notify the kernel that we're ready.\n",
              "        channel.send({})\n",
              "        if (message.buffers) {\n",
              "          for (const buffer of message.buffers) {\n",
              "            buffers.push(buffer);\n",
              "            downloaded += buffer.byteLength;\n",
              "            progress.value = downloaded;\n",
              "          }\n",
              "        }\n",
              "      }\n",
              "      const blob = new Blob(buffers, {type: 'application/binary'});\n",
              "      const a = document.createElement('a');\n",
              "      a.href = window.URL.createObjectURL(blob);\n",
              "      a.download = filename;\n",
              "      div.appendChild(a);\n",
              "      a.click();\n",
              "      div.remove();\n",
              "    }\n",
              "  "
            ],
            "text/plain": [
              "<IPython.core.display.Javascript object>"
            ]
          },
          "metadata": {
            "tags": []
          }
        },
        {
          "output_type": "display_data",
          "data": {
            "application/javascript": [
              "download(\"download_fe8d5bda-bcce-43b2-aa87-31aac3244370\", \"abc.svg\", 41431)"
            ],
            "text/plain": [
              "<IPython.core.display.Javascript object>"
            ]
          },
          "metadata": {
            "tags": []
          }
        },
        {
          "output_type": "display_data",
          "data": {
            "image/png": "[encoded data removed]",
            "text/plain": [
              "<Figure size 1080x360 with 3 Axes>"
            ]
          },
          "metadata": {
            "tags": [],
            "needs_background": "light"
          }
        }
      ]
    }
  ]
}